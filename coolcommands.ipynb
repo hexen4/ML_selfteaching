{
 "cells": [
  {
   "cell_type": "code",
   "execution_count": 1,
   "id": "da0aeb89-af07-4fcf-ba93-817841677fff",
   "metadata": {},
   "outputs": [
    {
     "ename": "NameError",
     "evalue": "name 'df' is not defined",
     "output_type": "error",
     "traceback": [
      "\u001b[1;31m---------------------------------------------------------------------------\u001b[0m",
      "\u001b[1;31mNameError\u001b[0m                                 Traceback (most recent call last)",
      "Cell \u001b[1;32mIn[1], line 1\u001b[0m\n\u001b[1;32m----> 1\u001b[0m \u001b[38;5;28mtype\u001b[39m(\u001b[43mdf\u001b[49m[[\u001b[38;5;124m'\u001b[39m\u001b[38;5;124mArea\u001b[39m\u001b[38;5;124m'\u001b[39m]])\n",
      "\u001b[1;31mNameError\u001b[0m: name 'df' is not defined"
     ]
    }
   ],
   "source": [
    "type(df[['Area']])= dataframe (two brackets)\n",
    "df['newname']= new coloumn"
   ]
  },
  {
   "cell_type": "code",
   "execution_count": null,
   "id": "214d442a-a434-4fc4-8eb8-b5f49c94fc89",
   "metadata": {},
   "outputs": [],
   "source": [
    "##reading model\n",
    "with open('model_pickle', 'rb') as f:\n",
    "    mp = pickle.load(f)"
   ]
  },
  {
   "cell_type": "code",
   "execution_count": null,
   "id": "65c3cd00-ee66-499f-8c8d-94271216514b",
   "metadata": {},
   "outputs": [],
   "source": [
    "#apply function to whole column\n",
    "df.experience = df.experience.apply(w2n.word_to_num)"
   ]
  },
  {
   "cell_type": "code",
   "execution_count": null,
   "id": "e13fe44b-33a7-49a8-8dfc-7d0688dd4c0f",
   "metadata": {},
   "outputs": [],
   "source": [
    "#rename column\n",
    "df.rename(columns = {'test_score(out of 10)':'test_score'}, inplace = True)"
   ]
  },
  {
   "cell_type": "code",
   "execution_count": null,
   "id": "9da983ec-d043-4ae2-8217-e22d9f00a44b",
   "metadata": {},
   "outputs": [],
   "source": [
    "#creating list comprehension\n",
    "cost = (1/n) * sum([val **2 for val in (y-y_hat)])"
   ]
  },
  {
   "cell_type": "code",
   "execution_count": null,
   "id": "86293fae-23b0-4742-80b7-76b3ad4f8f58",
   "metadata": {},
   "outputs": [],
   "source": [
    "#saving models\n",
    "import pickle\n",
    "with open('model_pickle', 'wb') as f:\n",
    "    pickle.dump(model,f)\n",
    "    "
   ]
  },
  {
   "cell_type": "code",
   "execution_count": null,
   "id": "f1391d9b-7e33-4f88-9619-6609b2c80f2d",
   "metadata": {},
   "outputs": [],
   "source": [
    "#create one-hot encoding\n",
    "dummies = pd.get_dummies(df.town,dtype=float) #can add prefix argument to create prefix\n",
    "dummies ##creates new df, need to concat\n",
    "df2= pd.concat([df,dummies], axis = 1)\n",
    "df2.drop(['town','robinsville'], axis = 1, inplace = True)\n",
    "df2"
   ]
  },
  {
   "cell_type": "code",
   "execution_count": null,
   "id": "2fe3e874-fc18-4ef9-bab1-99acc9406ec0",
   "metadata": {},
   "outputs": [],
   "source": [
    "#creating one-hot encoding with sklearn\n",
    "from sklearn.preprocessing import LabelEncoder\n",
    "le = LabelEncoder() #class object\n",
    "le_1 = LabelEncoder() #if need to encode multiple columns\n",
    "dfle = df\n",
    "dfle.town = le.fit_transform(dfle.town)\n",
    "dfle"
   ]
  },
  {
   "cell_type": "code",
   "execution_count": null,
   "id": "2ce9dc46-a04c-4283-8345-3fb6629346d1",
   "metadata": {},
   "outputs": [],
   "source": [
    "from sklearn.preprocessing import StandardScaler\n",
    "\n",
    "scaler = StandardScaler()\n",
    "X_scaled = scaler.fit_transform(X)\n",
    "X_scaled"
   ]
  },
  {
   "cell_type": "code",
   "execution_count": null,
   "id": "ee200edf-7643-45c9-8b31-ba2af82bb00d",
   "metadata": {},
   "outputs": [],
   "source": [
    "#testing + training\n",
    "X = df[['Mileage','Age(yrs)']]\n",
    "y = df['Sell Price($)']\n",
    "from sklearn.model_selection import train_test_split\n",
    "X_train, X_test, y_train, y_test = train_test_split(X,y,test_size=0.3, random_state = 10) \n",
    "from sklearn.linear_model import LinearRegression\n",
    "clf = LinearRegression() #object of class\n",
    "clf.fit(X_train, y_train)\n",
    "clf.score(X_test, y_test)"
   ]
  },
  {
   "cell_type": "code",
   "execution_count": null,
   "id": "82d6c058-4f6f-4744-bb75-79b5936f15e4",
   "metadata": {},
   "outputs": [],
   "source": [
    "#classification problem\n",
    "from sklearn.linear_model import LogisticRegression\n",
    "lr.predict_proba(X_test)"
   ]
  },
  {
   "cell_type": "code",
   "execution_count": null,
   "id": "e81774f1-4704-4148-ab1d-64e8ed42d470",
   "metadata": {},
   "outputs": [],
   "source": [
    "dir(digits) #gives names of keys"
   ]
  },
  {
   "cell_type": "code",
   "execution_count": null,
   "id": "5c52c0ed-9e2f-45ab-9670-c1a388ab16c3",
   "metadata": {},
   "outputs": [],
   "source": [
    "##cm\n",
    "from sklearn.metrics import confusion_matrix\n",
    "cm = confusion_matrix(y_test, y_predicted)\n",
    "cm\n",
    "import seaborn as sn\n",
    "plt.figure(figsize = (10,7))\n",
    "sn.heatmap(cm, annot=True)\n",
    "plt.xlabel('Predicted')\n",
    "plt.ylabel('Truth')"
   ]
  },
  {
   "cell_type": "code",
   "execution_count": null,
   "id": "41897f0a-4d16-4029-870f-0ca5e42d1ddd",
   "metadata": {},
   "outputs": [],
   "source": [
    "##K folds\n",
    "from sklearn.model_selection import KFold\n",
    "kf = KFold(n_splits = 3) #usually n_splits = 10"
   ]
  },
  {
   "cell_type": "code",
   "execution_count": null,
   "id": "1723f03c-6af0-4a0c-b600-c7a77fa02567",
   "metadata": {},
   "outputs": [],
   "source": [
    "#cross_val_score\n",
    "scores_gauss = cross_val_score(GaussianNB(),input, target, cv=10) #cv = number of kfolds\n",
    "np.average(scores_gauss)"
   ]
  },
  {
   "cell_type": "code",
   "execution_count": null,
   "id": "9ece5df0-0913-497f-a214-9effbdd4639d",
   "metadata": {},
   "outputs": [],
   "source": [
    "#elbow plot\n",
    "sse = []\n",
    "k_rng = range(1,10)\n",
    "for k in k_rng:\n",
    "    km = KMeans(n_clusters=k)\n",
    "    km.fit(df[['Age','Income($)']])\n",
    "    sse.append(km.inertia_)"
   ]
  },
  {
   "cell_type": "code",
   "execution_count": null,
   "id": "ea073237-fa13-49af-a84b-0f08d813502a",
   "metadata": {},
   "outputs": [],
   "source": [
    "df['spam'] = df['Category'].apply(lambda x: 1 if x =='spam'  else 0) #lambda x proper use"
   ]
  },
  {
   "cell_type": "code",
   "execution_count": null,
   "id": "183b7a8b-8d45-40ee-99fc-67baa569b783",
   "metadata": {},
   "outputs": [],
   "source": [
    "#count vectorisatiobn\n",
    "from sklearn.feature_extraction.text import CountVectorizer\n",
    "v = CountVectorizer()\n",
    "X_train_count = v.fit_transform(X_train.values)\n",
    "X_train_count.toarray()[:2]"
   ]
  },
  {
   "cell_type": "code",
   "execution_count": 1,
   "id": "2503a63d-deea-4aa7-a0b1-d6ed35bf6794",
   "metadata": {},
   "outputs": [],
   "source": [
    "from sklearn import svm\n",
    "from sklearn.ensemble import RandomForestClassifier\n",
    "from sklearn.linear_model import LogisticRegression\n",
    "\n",
    "model_params = {\n",
    "    'svm': {\n",
    "        'model': svm.SVC(gamma='auto'),\n",
    "        'params' : {\n",
    "            'C': [1,10,20],\n",
    "            'kernel': ['rbf','linear']\n",
    "        }  \n",
    "    },\n",
    "    'random_forest': {\n",
    "        'model': RandomForestClassifier(),\n",
    "        'params' : {\n",
    "            'n_estimators': [1,5,10]\n",
    "        }\n",
    "    },\n",
    "    'logistic_regression' : {\n",
    "        'model': LogisticRegression(solver='liblinear',multi_class='auto'),\n",
    "        'params': {\n",
    "            'C': [1,5,10]\n",
    "        }\n",
    "    }\n",
    "}"
   ]
  },
  {
   "cell_type": "code",
   "execution_count": null,
   "id": "fae6f7f3-b70c-4bfb-8b78-b9a29d4ac243",
   "metadata": {},
   "outputs": [],
   "source": [
    "from sklearn.decomposition import PCA\n",
    "\n",
    "pca = PCA(0.95)\n",
    "X_pca = pca.fit_transform(X)\n",
    "X_pca.shape"
   ]
  },
  {
   "cell_type": "code",
   "execution_count": null,
   "id": "0c42b326-c54f-427e-9ef0-7454bbbee71c",
   "metadata": {},
   "outputs": [],
   "source": [
    "df.nunique() #prints no. of unique values in each column\n",
    "np.unique(asad) #prints all uniqe values"
   ]
  },
  {
   "cell_type": "code",
   "execution_count": null,
   "id": "c8e32f37-d87f-4d09-b271-ef26b3dcd1d3",
   "metadata": {},
   "outputs": [],
   "source": [
    "cols = df.select_dtypes('number').columns \n",
    "df_ints = df.loc[:, cols]\n",
    "df_ints #better way of selecting all ints"
   ]
  },
  {
   "cell_type": "code",
   "execution_count": null,
   "id": "5ffa07f3-d663-4371-99a1-9ed726675775",
   "metadata": {},
   "outputs": [],
   "source": [
    "#finding outliers\n",
    "iqr = df_ints.quantile(0.75, numeric_only=False) - df_ints.quantile(0.25, numeric_only=False)\n",
    "lim = np.abs((df_ints - df_ints.median()) / iqr) < 2.22\n",
    "df_loc[:, cols ] = df_ints.where(lim, np.nan) ##substitues when lim = false"
   ]
  },
  {
   "cell_type": "code",
   "execution_count": null,
   "id": "adabd1de-c2cb-429e-8b57-de587a083419",
   "metadata": {},
   "outputs": [],
   "source": [
    "df1 = df1.astype(int) #bool -> int"
   ]
  }
 ],
 "metadata": {
  "kernelspec": {
   "display_name": "Python 3 (ipykernel)",
   "language": "python",
   "name": "python3"
  },
  "language_info": {
   "codemirror_mode": {
    "name": "ipython",
    "version": 3
   },
   "file_extension": ".py",
   "mimetype": "text/x-python",
   "name": "python",
   "nbconvert_exporter": "python",
   "pygments_lexer": "ipython3",
   "version": "3.11.5"
  }
 },
 "nbformat": 4,
 "nbformat_minor": 5
}
