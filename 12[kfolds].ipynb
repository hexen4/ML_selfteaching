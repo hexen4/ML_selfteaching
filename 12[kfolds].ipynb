{
 "cells": [
  {
   "cell_type": "code",
   "execution_count": 4,
   "id": "ec1510bf-3897-46d6-b187-1ecf9ba59bab",
   "metadata": {},
   "outputs": [
    {
     "data": {
      "text/plain": [
       "['DESCR', 'data', 'feature_names', 'frame', 'images', 'target', 'target_names']"
      ]
     },
     "execution_count": 4,
     "metadata": {},
     "output_type": "execute_result"
    }
   ],
   "source": [
    "from sklearn.linear_model import LogisticRegression\n",
    "from sklearn.svm import SVC\n",
    "from sklearn.ensemble import RandomForestClassifier\n",
    "import numpy as np\n",
    "import pandas as pd\n",
    "from sklearn.datasets import load_digits\n",
    "import matplotlib.pyplot as plt\n",
    "digits = load_digits()\n",
    "dir(digits)"
   ]
  },
  {
   "cell_type": "code",
   "execution_count": null,
   "id": "10db9082-d561-404a-b3ae-5f33d6c19634",
   "metadata": {},
   "outputs": [],
   "source": [
    "df = pd.DataFrame(digits.data, digits.target)\n",
    "df"
   ]
  },
  {
   "cell_type": "code",
   "execution_count": 6,
   "id": "5fa414c8-fd8a-4df4-a0af-5e68905d0538",
   "metadata": {},
   "outputs": [],
   "source": [
    "from sklearn.model_selection import train_test_split"
   ]
  },
  {
   "cell_type": "code",
   "execution_count": 9,
   "id": "4aef801d-7b0f-4a2b-bd7e-2c66e0c2f1e9",
   "metadata": {},
   "outputs": [],
   "source": [
    "X_train, X_test, y_train, y_test = train_test_split(digits.data,digits.target, test_size=0.2, random_state=42)"
   ]
  },
  {
   "cell_type": "markdown",
   "id": "fb95d70e-d7de-4172-9e46-d997cddecb51",
   "metadata": {},
   "source": [
    "## K FOLDS INSTEAD OF ABOVE CODE"
   ]
  },
  {
   "cell_type": "code",
   "execution_count": 11,
   "id": "6d6292c8-917e-439e-ac1f-07617a407d0f",
   "metadata": {},
   "outputs": [],
   "source": [
    "from sklearn.model_selection import KFold\n",
    "kf = KFold(n_splits = 3) #usually n_splits = 10"
   ]
  },
  {
   "cell_type": "code",
   "execution_count": 13,
   "id": "8ef74327-0fc0-4e28-9f4d-484acc8a08b7",
   "metadata": {},
   "outputs": [
    {
     "name": "stdout",
     "output_type": "stream",
     "text": [
      "[3 4 5 6 7 8] [0 1 2]\n",
      "[0 1 2 6 7 8] [3 4 5]\n",
      "[0 1 2 3 4 5] [6 7 8]\n"
     ]
    }
   ],
   "source": [
    "for train_index, test_index in kf.split(np.arange(9)):\n",
    "    print(train_index, test_index)\n",
    "    "
   ]
  },
  {
   "cell_type": "markdown",
   "id": "ed3ab31b-f045-4186-b3dc-bfe8867c0366",
   "metadata": {},
   "source": [
    "### takes 3 folds, uses each one for training once"
   ]
  },
  {
   "cell_type": "code",
   "execution_count": 17,
   "id": "d880bdb4-48f4-48ab-bb13-27c06cef81ae",
   "metadata": {},
   "outputs": [],
   "source": [
    "def get_score(model, X_train, X_test, y_train, y_test):\n",
    "    model.fit(X_train, y_train)\n",
    "    return model.score(X_test, y_test)\n",
    "    "
   ]
  },
  {
   "cell_type": "markdown",
   "id": "419013cb-2588-49e6-b3de-362f0c8e46bf",
   "metadata": {},
   "source": [
    "# Stratified K fold splits folds with uniform classifciation "
   ]
  },
  {
   "cell_type": "code",
   "execution_count": 18,
   "id": "041f23dc-72cd-434f-993c-856039c26988",
   "metadata": {},
   "outputs": [],
   "source": [
    "from sklearn.model_selection import StratifiedKFold\n",
    "folds = StratifiedKFold(n_splits=3)\n",
    "\n",
    "scores_logistic = []\n",
    "scores_svm = []\n",
    "scores_rf = []\n",
    "for train_index, test_index in folds.split(digits.data, digits.target):\n",
    "    X_train, X_test, y_train, y_test = digits.data[train_index], digits.data[test_index],digits.target[train_index], digits.target[test_index]\n",
    "    scores_logistic.append(get_score(LogisticRegression(solver='liblinear',multi_class='ovr'), X_train, X_test, y_train, y_test))  \n",
    "    scores_svm.append(get_score(SVC(gamma='auto'), X_train, X_test, y_train, y_test))\n",
    "    scores_rf.append(get_score(RandomForestClassifier(n_estimators=40), X_train, X_test, y_train, y_test))"
   ]
  },
  {
   "cell_type": "code",
   "execution_count": 19,
   "id": "d163ad27-44a9-45eb-9f4b-9075e99346a5",
   "metadata": {},
   "outputs": [
    {
     "data": {
      "text/plain": [
       "[0.8948247078464107, 0.9532554257095158, 0.9098497495826378]"
      ]
     },
     "execution_count": 19,
     "metadata": {},
     "output_type": "execute_result"
    }
   ],
   "source": [
    "scores_logistic"
   ]
  },
  {
   "cell_type": "markdown",
   "id": "e952d503-763f-4630-8b8d-6815b3bd331e",
   "metadata": {},
   "source": [
    "# instead of above code can do cross_val_score"
   ]
  },
  {
   "cell_type": "code",
   "execution_count": 20,
   "id": "c0d24575-d855-45e0-987f-37af5c35208f",
   "metadata": {},
   "outputs": [],
   "source": [
    "from sklearn.model_selection import cross_val_score"
   ]
  },
  {
   "cell_type": "code",
   "execution_count": 21,
   "id": "7c3388a8-6d09-4f85-9463-542842f6e1ac",
   "metadata": {},
   "outputs": [
    {
     "data": {
      "text/plain": [
       "array([0.92222222, 0.88333333, 0.95264624, 0.95821727, 0.89415042])"
      ]
     },
     "execution_count": 21,
     "metadata": {},
     "output_type": "execute_result"
    }
   ],
   "source": [
    "cross_val_score(LogisticRegression(solver='liblinear',multi_class='ovr'),digits.data, digits.target)"
   ]
  },
  {
   "cell_type": "markdown",
   "id": "3f3ef985-bf9d-4741-8043-1f49599ed594",
   "metadata": {},
   "source": [
    "# parameter tuning example"
   ]
  },
  {
   "cell_type": "code",
   "execution_count": 22,
   "id": "77026406-add1-442e-9b35-bcffdcd296e6",
   "metadata": {},
   "outputs": [
    {
     "data": {
      "text/plain": [
       "0.8825853507138423"
      ]
     },
     "execution_count": 22,
     "metadata": {},
     "output_type": "execute_result"
    }
   ],
   "source": [
    "scores1 = cross_val_score(RandomForestClassifier(n_estimators=5),digits.data, digits.target, cv=10)\n",
    "np.average(scores1)"
   ]
  },
  {
   "cell_type": "code",
   "execution_count": 23,
   "id": "29edec37-b9bd-4606-b04f-99548783e161",
   "metadata": {},
   "outputs": [
    {
     "data": {
      "text/plain": [
       "0.9320887647423959"
      ]
     },
     "execution_count": 23,
     "metadata": {},
     "output_type": "execute_result"
    }
   ],
   "source": [
    "scores2 = cross_val_score(RandomForestClassifier(n_estimators=20),digits.data, digits.target, cv=10)\n",
    "np.average(scores2)"
   ]
  },
  {
   "cell_type": "code",
   "execution_count": null,
   "id": "65775277-363a-4ad8-8203-9474b5ad2aff",
   "metadata": {},
   "outputs": [],
   "source": []
  }
 ],
 "metadata": {
  "kernelspec": {
   "display_name": "Python 3 (ipykernel)",
   "language": "python",
   "name": "python3"
  },
  "language_info": {
   "codemirror_mode": {
    "name": "ipython",
    "version": 3
   },
   "file_extension": ".py",
   "mimetype": "text/x-python",
   "name": "python",
   "nbconvert_exporter": "python",
   "pygments_lexer": "ipython3",
   "version": "3.11.5"
  }
 },
 "nbformat": 4,
 "nbformat_minor": 5
}
